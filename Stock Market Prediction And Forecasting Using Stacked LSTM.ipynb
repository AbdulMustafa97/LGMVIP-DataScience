{
  "nbformat": 4,
  "nbformat_minor": 0,
  "metadata": {
    "colab": {
      "name": "Stock Market Prediction And Forecasting Using Stacked LSTM.ipynb",
      "provenance": [],
      "collapsed_sections": []
    },
    "kernelspec": {
      "name": "python3",
      "display_name": "Python 3"
    },
    "language_info": {
      "name": "python"
    }
  },
  "cells": [
    {
      "cell_type": "markdown",
      "metadata": {
        "id": "4dD6CEB02IN4"
      },
      "source": [
        "Steps that will be followed.\n",
        "\n",
        "1. Import data\n",
        "2. Preprocess the data (train and test data)\n",
        "3. Create an stacked LSTM model.\n",
        "4. Predict the test data and plot the output.\n",
        "5. Predict the future 30 days and plot the output."
      ]
    },
    {
      "cell_type": "code",
      "metadata": {
        "id": "b7C9mPQmwzCA"
      },
      "source": [
        "# importing libraries\n",
        "\n",
        "import pandas as pd\n",
        "import matplotlib.pyplot as plt\n",
        "import numpy as np\n",
        "from sklearn.preprocessing import MinMaxScaler\n",
        "import tensorflow as tf\n",
        "import math\n",
        "from sklearn.metrics import mean_squared_error\n",
        "from numpy import array\n",
        "from tensorflow.keras.models import Sequential\n",
        "from tensorflow.keras.layers import Dense\n",
        "from tensorflow.keras.layers import LSTM"
      ],
      "execution_count": 1,
      "outputs": []
    },
    {
      "cell_type": "markdown",
      "metadata": {
        "id": "fWMwnaTEFLDN"
      },
      "source": [
        "**Step 1: Importing Data**\n",
        "\n"
      ]
    },
    {
      "cell_type": "code",
      "metadata": {
        "colab": {
          "base_uri": "https://localhost:8080/",
          "height": 204
        },
        "id": "oDHJUmxVw8yI",
        "outputId": "7a6643f5-c295-441f-bfa5-0b66e7b25098"
      },
      "source": [
        "# loading the dataset\n",
        "\n",
        "dataset = pd.read_csv(\"https://raw.githubusercontent.com/mwitiderrick/stockprice/master/NSE-TATAGLOBAL.csv\")\n",
        "\n",
        "# printing the head of dataset\n",
        "\n",
        "dataset.head()"
      ],
      "execution_count": 16,
      "outputs": [
        {
          "output_type": "execute_result",
          "data": {
            "text/html": [
              "<div>\n",
              "<style scoped>\n",
              "    .dataframe tbody tr th:only-of-type {\n",
              "        vertical-align: middle;\n",
              "    }\n",
              "\n",
              "    .dataframe tbody tr th {\n",
              "        vertical-align: top;\n",
              "    }\n",
              "\n",
              "    .dataframe thead th {\n",
              "        text-align: right;\n",
              "    }\n",
              "</style>\n",
              "<table border=\"1\" class=\"dataframe\">\n",
              "  <thead>\n",
              "    <tr style=\"text-align: right;\">\n",
              "      <th></th>\n",
              "      <th>Date</th>\n",
              "      <th>Open</th>\n",
              "      <th>High</th>\n",
              "      <th>Low</th>\n",
              "      <th>Last</th>\n",
              "      <th>Close</th>\n",
              "      <th>Total Trade Quantity</th>\n",
              "      <th>Turnover (Lacs)</th>\n",
              "    </tr>\n",
              "  </thead>\n",
              "  <tbody>\n",
              "    <tr>\n",
              "      <th>0</th>\n",
              "      <td>2018-09-28</td>\n",
              "      <td>234.05</td>\n",
              "      <td>235.95</td>\n",
              "      <td>230.20</td>\n",
              "      <td>233.50</td>\n",
              "      <td>233.75</td>\n",
              "      <td>3069914</td>\n",
              "      <td>7162.35</td>\n",
              "    </tr>\n",
              "    <tr>\n",
              "      <th>1</th>\n",
              "      <td>2018-09-27</td>\n",
              "      <td>234.55</td>\n",
              "      <td>236.80</td>\n",
              "      <td>231.10</td>\n",
              "      <td>233.80</td>\n",
              "      <td>233.25</td>\n",
              "      <td>5082859</td>\n",
              "      <td>11859.95</td>\n",
              "    </tr>\n",
              "    <tr>\n",
              "      <th>2</th>\n",
              "      <td>2018-09-26</td>\n",
              "      <td>240.00</td>\n",
              "      <td>240.00</td>\n",
              "      <td>232.50</td>\n",
              "      <td>235.00</td>\n",
              "      <td>234.25</td>\n",
              "      <td>2240909</td>\n",
              "      <td>5248.60</td>\n",
              "    </tr>\n",
              "    <tr>\n",
              "      <th>3</th>\n",
              "      <td>2018-09-25</td>\n",
              "      <td>233.30</td>\n",
              "      <td>236.75</td>\n",
              "      <td>232.00</td>\n",
              "      <td>236.25</td>\n",
              "      <td>236.10</td>\n",
              "      <td>2349368</td>\n",
              "      <td>5503.90</td>\n",
              "    </tr>\n",
              "    <tr>\n",
              "      <th>4</th>\n",
              "      <td>2018-09-24</td>\n",
              "      <td>233.55</td>\n",
              "      <td>239.20</td>\n",
              "      <td>230.75</td>\n",
              "      <td>234.00</td>\n",
              "      <td>233.30</td>\n",
              "      <td>3423509</td>\n",
              "      <td>7999.55</td>\n",
              "    </tr>\n",
              "  </tbody>\n",
              "</table>\n",
              "</div>"
            ],
            "text/plain": [
              "         Date    Open    High  ...   Close  Total Trade Quantity  Turnover (Lacs)\n",
              "0  2018-09-28  234.05  235.95  ...  233.75               3069914          7162.35\n",
              "1  2018-09-27  234.55  236.80  ...  233.25               5082859         11859.95\n",
              "2  2018-09-26  240.00  240.00  ...  234.25               2240909          5248.60\n",
              "3  2018-09-25  233.30  236.75  ...  236.10               2349368          5503.90\n",
              "4  2018-09-24  233.55  239.20  ...  233.30               3423509          7999.55\n",
              "\n",
              "[5 rows x 8 columns]"
            ]
          },
          "metadata": {},
          "execution_count": 16
        }
      ]
    },
    {
      "cell_type": "code",
      "metadata": {
        "id": "zN55wWx7xSbR"
      },
      "source": [
        "# we are doing price prediction for particularly \"Open\" column\n",
        "\n",
        "dataset = dataset.reset_index()['Open']"
      ],
      "execution_count": 17,
      "outputs": []
    },
    {
      "cell_type": "code",
      "metadata": {
        "colab": {
          "base_uri": "https://localhost:8080/"
        },
        "id": "oLNmll8_-RJC",
        "outputId": "93e90926-0b51-4abf-ea93-1666567bbbf7"
      },
      "source": [
        "# printing the dataset\n",
        "\n",
        "dataset"
      ],
      "execution_count": 8,
      "outputs": [
        {
          "output_type": "execute_result",
          "data": {
            "text/plain": [
              "0       234.05\n",
              "1       234.55\n",
              "2       240.00\n",
              "3       233.30\n",
              "4       233.55\n",
              "         ...  \n",
              "2030    117.60\n",
              "2031    120.10\n",
              "2032    121.80\n",
              "2033    120.30\n",
              "2034    122.10\n",
              "Name: Open, Length: 2035, dtype: float64"
            ]
          },
          "metadata": {},
          "execution_count": 8
        }
      ]
    },
    {
      "cell_type": "code",
      "metadata": {
        "colab": {
          "base_uri": "https://localhost:8080/",
          "height": 282
        },
        "id": "CMo49g95xggs",
        "outputId": "33c180e5-66b0-428e-964c-f9d89e3ecc67"
      },
      "source": [
        "# plotting the dataset\n",
        "\n",
        "plt.plot(dataset)"
      ],
      "execution_count": 9,
      "outputs": [
        {
          "output_type": "execute_result",
          "data": {
            "text/plain": [
              "[<matplotlib.lines.Line2D at 0x7fe48b53b650>]"
            ]
          },
          "metadata": {},
          "execution_count": 9
        },
        {
          "output_type": "display_data",
          "data": {
            "image/png": "[encoded data removed]",
            "text/plain": [
              "<Figure size 432x288 with 1 Axes>"
            ]
          },
          "metadata": {
            "needs_background": "light"
          }
        }
      ]
    },
    {
      "cell_type": "code",
      "metadata": {
        "colab": {
          "base_uri": "https://localhost:8080/"
        },
        "id": "fSc1Gwwg_oBJ",
        "outputId": "9bd8799a-51b8-4ede-8e45-c8e1fab570a8"
      },
      "source": [
        "# printing number of rows and columns\n",
        "\n",
        "dataset.shape"
      ],
      "execution_count": 19,
      "outputs": [
        {
          "output_type": "execute_result",
          "data": {
            "text/plain": [
              "(2035,)"
            ]
          },
          "metadata": {},
          "execution_count": 19
        }
      ]
    },
    {
      "cell_type": "code",
      "metadata": {
        "id": "8Lxhd50Ey8-7"
      },
      "source": [
        "# LSTM are sensitive to the scale of the data. So we apply MinMax Scalar\n",
        "\n",
        "scaler = MinMaxScaler(feature_range = (0, 1)) # we will 0 and 1 to coresponding datapoint\n",
        "dataset = scaler.fit_transform(np.array(dataset).reshape(-1, 1))"
      ],
      "execution_count": 21,
      "outputs": []
    },
    {
      "cell_type": "code",
      "metadata": {
        "colab": {
          "base_uri": "https://localhost:8080/"
        },
        "id": "WHdo_iwk10ev",
        "outputId": "865d6daf-abbc-40fe-bdef-c022a27252ca"
      },
      "source": [
        "# printing number of rows and columns\n",
        "\n",
        "dataset.shape    "
      ],
      "execution_count": 22,
      "outputs": [
        {
          "output_type": "execute_result",
          "data": {
            "text/plain": [
              "(2035, 1)"
            ]
          },
          "metadata": {},
          "execution_count": 22
        }
      ]
    },
    {
      "cell_type": "code",
      "metadata": {
        "colab": {
          "base_uri": "https://localhost:8080/"
        },
        "id": "qroc-hAT158l",
        "outputId": "07aedae1-d28d-4b8f-c754-cd82ee894db2"
      },
      "source": [
        "# dataset converted into array of 0s and 1s\n",
        "\n",
        "dataset"
      ],
      "execution_count": 23,
      "outputs": [
        {
          "output_type": "execute_result",
          "data": {
            "text/plain": [
              "array([[0.6202352 ],\n",
              "       [0.62226277],\n",
              "       [0.64436334],\n",
              "       ...,\n",
              "       [0.16504461],\n",
              "       [0.15896188],\n",
              "       [0.16626115]])"
            ]
          },
          "metadata": {},
          "execution_count": 23
        }
      ]
    },
    {
      "cell_type": "markdown",
      "metadata": {
        "id": "S7q9yQ8HFiY0"
      },
      "source": [
        "**Step 2: Preprocess the data (train and test data)**"
      ]
    },
    {
      "cell_type": "code",
      "metadata": {
        "id": "qPOEBt0e2xYc"
      },
      "source": [
        "# splitting dataset for train and test\n",
        "\n",
        "training_size = int(len(dataset) * 0.65) # 65% of dataset will be use for training\n",
        "test_size = len(dataset) - training_size\n",
        "train_data, test_data = dataset[0:training_size], dataset[training_size:len(dataset),:1]"
      ],
      "execution_count": 26,
      "outputs": []
    },
    {
      "cell_type": "code",
      "metadata": {
        "colab": {
          "base_uri": "https://localhost:8080/"
        },
        "id": "fSWMqBES4HM6",
        "outputId": "04633a0d-afc3-4c8c-bfff-36cf2c83bcb5"
      },
      "source": [
        "# printing the size of training and testing data\n",
        "\n",
        "training_size, test_size"
      ],
      "execution_count": 25,
      "outputs": [
        {
          "output_type": "execute_result",
          "data": {
            "text/plain": [
              "(1322, 713)"
            ]
          },
          "metadata": {},
          "execution_count": 25
        }
      ]
    },
    {
      "cell_type": "code",
      "metadata": {
        "colab": {
          "base_uri": "https://localhost:8080/"
        },
        "id": "jfWHPhUm4Rzi",
        "outputId": "b166799a-f723-4dba-ad71-8a38b5d866e2"
      },
      "source": [
        "# printing the training data\n",
        "\n",
        "train_data"
      ],
      "execution_count": 27,
      "outputs": [
        {
          "output_type": "execute_result",
          "data": {
            "text/plain": [
              "array([[0.6202352 ],\n",
              "       [0.62226277],\n",
              "       [0.64436334],\n",
              "       ...,\n",
              "       [0.26094891],\n",
              "       [0.25547445],\n",
              "       [0.24553933]])"
            ]
          },
          "metadata": {},
          "execution_count": 27
        }
      ]
    },
    {
      "cell_type": "code",
      "metadata": {
        "id": "FuMsUiqM41hU"
      },
      "source": [
        "# convert an array of values into a dataset matrix\n",
        "def create_dataset(dataset, time_step = 1):\n",
        "\tdataX, dataY = [], []\n",
        "  # moving forward in each iteration\n",
        "\tfor i in range(len(dataset) - time_step - 1):\n",
        "\t\ta = dataset[i:(i + time_step), 0]    \n",
        "\t\tdataX.append(a)\n",
        "\t\tdataY.append(dataset[i + time_step, 0])\n",
        "\treturn np.array(dataX), np.array(dataY)"
      ],
      "execution_count": 30,
      "outputs": []
    },
    {
      "cell_type": "code",
      "metadata": {
        "id": "MJInTPCw6x2O"
      },
      "source": [
        "# reshape into X=t,t+1,t+2,t+3 and Y=t+4\n",
        "time_step = 100 \n",
        "X_train, y_train = create_dataset(train_data, time_step)\n",
        "X_test, ytest = create_dataset(test_data, time_step)"
      ],
      "execution_count": 31,
      "outputs": []
    },
    {
      "cell_type": "code",
      "metadata": {
        "colab": {
          "base_uri": "https://localhost:8080/"
        },
        "id": "dZtbR2B_7VQO",
        "outputId": "b10c162e-4deb-4067-a6c5-f67560decd05"
      },
      "source": [
        "# printing the dimension of dataset\n",
        "\n",
        "print(X_train.shape), print(y_train.shape)"
      ],
      "execution_count": 32,
      "outputs": [
        {
          "output_type": "stream",
          "text": [
            "(1221, 100)\n",
            "(1221,)\n"
          ],
          "name": "stdout"
        },
        {
          "output_type": "execute_result",
          "data": {
            "text/plain": [
              "(None, None)"
            ]
          },
          "metadata": {},
          "execution_count": 32
        }
      ]
    },
    {
      "cell_type": "code",
      "metadata": {
        "colab": {
          "base_uri": "https://localhost:8080/"
        },
        "id": "cV8yYKzM8S-g",
        "outputId": "bc38e1e8-67b3-4ce1-d162-9ce957f23ad1"
      },
      "source": [
        "# printing the dimension of dataset\n",
        "\n",
        "print(X_test.shape), print(ytest.shape)"
      ],
      "execution_count": 33,
      "outputs": [
        {
          "output_type": "stream",
          "text": [
            "(612, 100)\n",
            "(612,)\n"
          ],
          "name": "stdout"
        },
        {
          "output_type": "execute_result",
          "data": {
            "text/plain": [
              "(None, None)"
            ]
          },
          "metadata": {},
          "execution_count": 33
        }
      ]
    },
    {
      "cell_type": "markdown",
      "metadata": {
        "id": "JCJykpAQGU_W"
      },
      "source": [
        "**Step 3: Create an stacked LSTM model.**"
      ]
    },
    {
      "cell_type": "code",
      "metadata": {
        "id": "AOFz79EB8V6e"
      },
      "source": [
        "# reshape input to be 3 dimensions (samples, time steps, features), which is required for LSTM\n",
        "X_train =X_train.reshape(X_train.shape[0],X_train.shape[1] , 1)\n",
        "X_test = X_test.reshape(X_test.shape[0],X_test.shape[1] , 1)"
      ],
      "execution_count": 34,
      "outputs": []
    },
    {
      "cell_type": "code",
      "metadata": {
        "id": "81jWyTW083zO"
      },
      "source": [
        "model = Sequential()\n",
        "model.add(LSTM(50,return_sequences=True, input_shape=(100, 1)))\n",
        "model.add(LSTM(50,return_sequences=True))\n",
        "model.add(LSTM(50))\n",
        "model.add(Dense(1))\n",
        "model.compile(loss = 'mean_squared_error', optimizer = 'adam')"
      ],
      "execution_count": 35,
      "outputs": []
    },
    {
      "cell_type": "code",
      "metadata": {
        "colab": {
          "base_uri": "https://localhost:8080/"
        },
        "id": "rNaW1D77-6a6",
        "outputId": "cc8ecf06-9788-4c1b-e9c0-66fa6d0718da"
      },
      "source": [
        "model.summary()"
      ],
      "execution_count": 36,
      "outputs": [
        {
          "output_type": "stream",
          "text": [
            "Model: \"sequential\"\n",
            "_________________________________________________________________\n",
            "Layer (type)                 Output Shape              Param #   \n",
            "=================================================================\n",
            "lstm (LSTM)                  (None, 100, 50)           10400     \n",
            "_________________________________________________________________\n",
            "lstm_1 (LSTM)                (None, 100, 50)           20200     \n",
            "_________________________________________________________________\n",
            "lstm_2 (LSTM)                (None, 50)                20200     \n",
            "_________________________________________________________________\n",
            "dense (Dense)                (None, 1)                 51        \n",
            "=================================================================\n",
            "Total params: 50,851\n",
            "Trainable params: 50,851\n",
            "Non-trainable params: 0\n",
            "_________________________________________________________________\n"
          ],
          "name": "stdout"
        }
      ]
    },
    {
      "cell_type": "code",
      "metadata": {
        "colab": {
          "base_uri": "https://localhost:8080/"
        },
        "id": "xys1TQ3b_rep",
        "outputId": "6a3a76c2-951d-4965-902a-422e26015288"
      },
      "source": [
        "model.fit(X_train, y_train, validation_data = (X_test, ytest), epochs = 100, batch_size = 64, verbose=1)"
      ],
      "execution_count": 37,
      "outputs": [
        {
          "output_type": "stream",
          "text": [
            "Epoch 1/100\n",
            "20/20 [==============================] - 9s 231ms/step - loss: 0.0249 - val_loss: 0.0033\n",
            "Epoch 2/100\n",
            "20/20 [==============================] - 3s 170ms/step - loss: 0.0023 - val_loss: 8.3845e-04\n",
            "Epoch 3/100\n",
            "20/20 [==============================] - 3s 170ms/step - loss: 0.0016 - val_loss: 0.0013\n",
            "Epoch 4/100\n",
            "20/20 [==============================] - 3s 168ms/step - loss: 0.0015 - val_loss: 8.8159e-04\n",
            "Epoch 5/100\n",
            "20/20 [==============================] - 3s 169ms/step - loss: 0.0015 - val_loss: 0.0011\n",
            "Epoch 6/100\n",
            "20/20 [==============================] - 3s 168ms/step - loss: 0.0013 - val_loss: 9.7506e-04\n",
            "Epoch 7/100\n",
            "20/20 [==============================] - 3s 171ms/step - loss: 0.0013 - val_loss: 9.1258e-04\n",
            "Epoch 8/100\n",
            "20/20 [==============================] - 3s 169ms/step - loss: 0.0012 - val_loss: 9.4957e-04\n",
            "Epoch 9/100\n",
            "20/20 [==============================] - 3s 167ms/step - loss: 0.0011 - val_loss: 8.6296e-04\n",
            "Epoch 10/100\n",
            "20/20 [==============================] - 3s 170ms/step - loss: 0.0011 - val_loss: 0.0012\n",
            "Epoch 11/100\n",
            "20/20 [==============================] - 3s 170ms/step - loss: 0.0012 - val_loss: 0.0010\n",
            "Epoch 12/100\n",
            "20/20 [==============================] - 3s 170ms/step - loss: 9.6702e-04 - val_loss: 8.7835e-04\n",
            "Epoch 13/100\n",
            "20/20 [==============================] - 3s 168ms/step - loss: 0.0010 - val_loss: 9.7457e-04\n",
            "Epoch 14/100\n",
            "20/20 [==============================] - 3s 168ms/step - loss: 0.0010 - val_loss: 8.0068e-04\n",
            "Epoch 15/100\n",
            "20/20 [==============================] - 3s 167ms/step - loss: 8.5842e-04 - val_loss: 7.4970e-04\n",
            "Epoch 16/100\n",
            "20/20 [==============================] - 3s 169ms/step - loss: 8.3263e-04 - val_loss: 6.5566e-04\n",
            "Epoch 17/100\n",
            "20/20 [==============================] - 3s 166ms/step - loss: 9.0456e-04 - val_loss: 7.7311e-04\n",
            "Epoch 18/100\n",
            "20/20 [==============================] - 3s 167ms/step - loss: 0.0012 - val_loss: 6.4770e-04\n",
            "Epoch 19/100\n",
            "20/20 [==============================] - 3s 167ms/step - loss: 9.8790e-04 - val_loss: 6.1709e-04\n",
            "Epoch 20/100\n",
            "20/20 [==============================] - 3s 168ms/step - loss: 9.2613e-04 - val_loss: 6.3752e-04\n",
            "Epoch 21/100\n",
            "20/20 [==============================] - 3s 167ms/step - loss: 7.6923e-04 - val_loss: 7.2567e-04\n",
            "Epoch 22/100\n",
            "20/20 [==============================] - 3s 167ms/step - loss: 7.4216e-04 - val_loss: 6.7687e-04\n",
            "Epoch 23/100\n",
            "20/20 [==============================] - 3s 167ms/step - loss: 7.6255e-04 - val_loss: 7.0748e-04\n",
            "Epoch 24/100\n",
            "20/20 [==============================] - 3s 168ms/step - loss: 7.0475e-04 - val_loss: 6.8500e-04\n",
            "Epoch 25/100\n",
            "20/20 [==============================] - 3s 168ms/step - loss: 7.5978e-04 - val_loss: 8.5289e-04\n",
            "Epoch 26/100\n",
            "20/20 [==============================] - 3s 168ms/step - loss: 7.2884e-04 - val_loss: 8.3364e-04\n",
            "Epoch 27/100\n",
            "20/20 [==============================] - 3s 165ms/step - loss: 7.2092e-04 - val_loss: 5.6165e-04\n",
            "Epoch 28/100\n",
            "20/20 [==============================] - 3s 167ms/step - loss: 7.0058e-04 - val_loss: 6.8630e-04\n",
            "Epoch 29/100\n",
            "20/20 [==============================] - 3s 167ms/step - loss: 6.8036e-04 - val_loss: 7.9129e-04\n",
            "Epoch 30/100\n",
            "20/20 [==============================] - 3s 168ms/step - loss: 7.0798e-04 - val_loss: 6.3752e-04\n",
            "Epoch 31/100\n",
            "20/20 [==============================] - 3s 166ms/step - loss: 7.1424e-04 - val_loss: 6.8334e-04\n",
            "Epoch 32/100\n",
            "20/20 [==============================] - 3s 168ms/step - loss: 6.1688e-04 - val_loss: 6.1521e-04\n",
            "Epoch 33/100\n",
            "20/20 [==============================] - 3s 166ms/step - loss: 6.5000e-04 - val_loss: 7.0071e-04\n",
            "Epoch 34/100\n",
            "20/20 [==============================] - 3s 168ms/step - loss: 6.0143e-04 - val_loss: 6.7257e-04\n",
            "Epoch 35/100\n",
            "20/20 [==============================] - 3s 167ms/step - loss: 6.2513e-04 - val_loss: 7.0490e-04\n",
            "Epoch 36/100\n",
            "20/20 [==============================] - 3s 166ms/step - loss: 5.7774e-04 - val_loss: 6.5666e-04\n",
            "Epoch 37/100\n",
            "20/20 [==============================] - 3s 168ms/step - loss: 5.9711e-04 - val_loss: 9.1991e-04\n",
            "Epoch 38/100\n",
            "20/20 [==============================] - 3s 169ms/step - loss: 6.6228e-04 - val_loss: 5.1265e-04\n",
            "Epoch 39/100\n",
            "20/20 [==============================] - 3s 169ms/step - loss: 6.1762e-04 - val_loss: 5.7748e-04\n",
            "Epoch 40/100\n",
            "20/20 [==============================] - 3s 166ms/step - loss: 5.9435e-04 - val_loss: 6.6329e-04\n",
            "Epoch 41/100\n",
            "20/20 [==============================] - 3s 169ms/step - loss: 5.7663e-04 - val_loss: 7.0743e-04\n",
            "Epoch 42/100\n",
            "20/20 [==============================] - 3s 169ms/step - loss: 5.6365e-04 - val_loss: 5.0146e-04\n",
            "Epoch 43/100\n",
            "20/20 [==============================] - 3s 168ms/step - loss: 5.5713e-04 - val_loss: 5.1228e-04\n",
            "Epoch 44/100\n",
            "20/20 [==============================] - 3s 168ms/step - loss: 5.2725e-04 - val_loss: 5.6208e-04\n",
            "Epoch 45/100\n",
            "20/20 [==============================] - 3s 169ms/step - loss: 5.4335e-04 - val_loss: 6.2872e-04\n",
            "Epoch 46/100\n",
            "20/20 [==============================] - 3s 168ms/step - loss: 5.7206e-04 - val_loss: 4.8875e-04\n",
            "Epoch 47/100\n",
            "20/20 [==============================] - 3s 168ms/step - loss: 6.4927e-04 - val_loss: 6.6768e-04\n",
            "Epoch 48/100\n",
            "20/20 [==============================] - 3s 169ms/step - loss: 4.9592e-04 - val_loss: 4.6296e-04\n",
            "Epoch 49/100\n",
            "20/20 [==============================] - 3s 168ms/step - loss: 5.2773e-04 - val_loss: 4.6739e-04\n",
            "Epoch 50/100\n",
            "20/20 [==============================] - 3s 168ms/step - loss: 4.7447e-04 - val_loss: 5.4157e-04\n",
            "Epoch 51/100\n",
            "20/20 [==============================] - 3s 167ms/step - loss: 5.1363e-04 - val_loss: 4.6998e-04\n",
            "Epoch 52/100\n",
            "20/20 [==============================] - 3s 169ms/step - loss: 4.8672e-04 - val_loss: 4.5935e-04\n",
            "Epoch 53/100\n",
            "20/20 [==============================] - 3s 168ms/step - loss: 4.7888e-04 - val_loss: 4.9375e-04\n",
            "Epoch 54/100\n",
            "20/20 [==============================] - 3s 167ms/step - loss: 4.5528e-04 - val_loss: 4.2019e-04\n",
            "Epoch 55/100\n",
            "20/20 [==============================] - 3s 168ms/step - loss: 5.3222e-04 - val_loss: 3.6729e-04\n",
            "Epoch 56/100\n",
            "20/20 [==============================] - 3s 168ms/step - loss: 5.2788e-04 - val_loss: 3.6080e-04\n",
            "Epoch 57/100\n",
            "20/20 [==============================] - 3s 168ms/step - loss: 5.0821e-04 - val_loss: 6.7188e-04\n",
            "Epoch 58/100\n",
            "20/20 [==============================] - 3s 167ms/step - loss: 5.9138e-04 - val_loss: 3.9043e-04\n",
            "Epoch 59/100\n",
            "20/20 [==============================] - 3s 167ms/step - loss: 4.4634e-04 - val_loss: 3.6972e-04\n",
            "Epoch 60/100\n",
            "20/20 [==============================] - 3s 167ms/step - loss: 5.3944e-04 - val_loss: 5.2599e-04\n",
            "Epoch 61/100\n",
            "20/20 [==============================] - 3s 168ms/step - loss: 4.1089e-04 - val_loss: 4.6443e-04\n",
            "Epoch 62/100\n",
            "20/20 [==============================] - 3s 169ms/step - loss: 4.2571e-04 - val_loss: 3.7702e-04\n",
            "Epoch 63/100\n",
            "20/20 [==============================] - 3s 168ms/step - loss: 4.6239e-04 - val_loss: 4.7012e-04\n",
            "Epoch 64/100\n",
            "20/20 [==============================] - 3s 168ms/step - loss: 3.8797e-04 - val_loss: 3.5888e-04\n",
            "Epoch 65/100\n",
            "20/20 [==============================] - 3s 168ms/step - loss: 3.9828e-04 - val_loss: 4.1394e-04\n",
            "Epoch 66/100\n",
            "20/20 [==============================] - 3s 169ms/step - loss: 4.9469e-04 - val_loss: 3.9732e-04\n",
            "Epoch 67/100\n",
            "20/20 [==============================] - 3s 168ms/step - loss: 5.4183e-04 - val_loss: 4.2402e-04\n",
            "Epoch 68/100\n",
            "20/20 [==============================] - 3s 167ms/step - loss: 4.0648e-04 - val_loss: 3.3286e-04\n",
            "Epoch 69/100\n",
            "20/20 [==============================] - 3s 168ms/step - loss: 3.5757e-04 - val_loss: 3.2470e-04\n",
            "Epoch 70/100\n",
            "20/20 [==============================] - 3s 168ms/step - loss: 3.8885e-04 - val_loss: 3.3860e-04\n",
            "Epoch 71/100\n",
            "20/20 [==============================] - 3s 168ms/step - loss: 3.2610e-04 - val_loss: 3.9849e-04\n",
            "Epoch 72/100\n",
            "20/20 [==============================] - 3s 167ms/step - loss: 3.5773e-04 - val_loss: 3.5487e-04\n",
            "Epoch 73/100\n",
            "20/20 [==============================] - 3s 168ms/step - loss: 3.7292e-04 - val_loss: 3.1403e-04\n",
            "Epoch 74/100\n",
            "20/20 [==============================] - 3s 169ms/step - loss: 4.3876e-04 - val_loss: 4.2072e-04\n",
            "Epoch 75/100\n",
            "20/20 [==============================] - 3s 169ms/step - loss: 3.5207e-04 - val_loss: 3.7271e-04\n",
            "Epoch 76/100\n",
            "20/20 [==============================] - 3s 168ms/step - loss: 3.0161e-04 - val_loss: 5.6922e-04\n",
            "Epoch 77/100\n",
            "20/20 [==============================] - 3s 169ms/step - loss: 3.7543e-04 - val_loss: 2.9139e-04\n",
            "Epoch 78/100\n",
            "20/20 [==============================] - 3s 168ms/step - loss: 3.5049e-04 - val_loss: 3.0345e-04\n",
            "Epoch 79/100\n",
            "20/20 [==============================] - 3s 168ms/step - loss: 3.3798e-04 - val_loss: 3.2743e-04\n",
            "Epoch 80/100\n",
            "20/20 [==============================] - 3s 169ms/step - loss: 2.8692e-04 - val_loss: 3.1790e-04\n",
            "Epoch 81/100\n",
            "20/20 [==============================] - 3s 169ms/step - loss: 3.2037e-04 - val_loss: 2.9589e-04\n",
            "Epoch 82/100\n",
            "20/20 [==============================] - 3s 167ms/step - loss: 3.1387e-04 - val_loss: 3.4189e-04\n",
            "Epoch 83/100\n",
            "20/20 [==============================] - 3s 168ms/step - loss: 4.4990e-04 - val_loss: 4.5623e-04\n",
            "Epoch 84/100\n",
            "20/20 [==============================] - 3s 170ms/step - loss: 4.8919e-04 - val_loss: 2.7359e-04\n",
            "Epoch 85/100\n",
            "20/20 [==============================] - 3s 167ms/step - loss: 3.0200e-04 - val_loss: 2.6642e-04\n",
            "Epoch 86/100\n",
            "20/20 [==============================] - 3s 167ms/step - loss: 3.3624e-04 - val_loss: 2.8042e-04\n",
            "Epoch 87/100\n",
            "20/20 [==============================] - 3s 169ms/step - loss: 2.9907e-04 - val_loss: 2.8342e-04\n",
            "Epoch 88/100\n",
            "20/20 [==============================] - 3s 167ms/step - loss: 2.9425e-04 - val_loss: 4.5603e-04\n",
            "Epoch 89/100\n",
            "20/20 [==============================] - 3s 169ms/step - loss: 3.0225e-04 - val_loss: 2.3240e-04\n",
            "Epoch 90/100\n",
            "20/20 [==============================] - 3s 168ms/step - loss: 2.5884e-04 - val_loss: 2.8083e-04\n",
            "Epoch 91/100\n",
            "20/20 [==============================] - 3s 168ms/step - loss: 2.7998e-04 - val_loss: 3.5984e-04\n",
            "Epoch 92/100\n",
            "20/20 [==============================] - 3s 167ms/step - loss: 3.6179e-04 - val_loss: 2.5521e-04\n",
            "Epoch 93/100\n",
            "20/20 [==============================] - 3s 169ms/step - loss: 2.7740e-04 - val_loss: 2.3227e-04\n",
            "Epoch 94/100\n",
            "20/20 [==============================] - 3s 169ms/step - loss: 2.6736e-04 - val_loss: 2.7709e-04\n",
            "Epoch 95/100\n",
            "20/20 [==============================] - 3s 169ms/step - loss: 2.6382e-04 - val_loss: 2.7048e-04\n",
            "Epoch 96/100\n",
            "20/20 [==============================] - 3s 169ms/step - loss: 2.6511e-04 - val_loss: 2.5319e-04\n",
            "Epoch 97/100\n",
            "20/20 [==============================] - 3s 170ms/step - loss: 3.3313e-04 - val_loss: 2.5788e-04\n",
            "Epoch 98/100\n",
            "20/20 [==============================] - 3s 170ms/step - loss: 5.8304e-04 - val_loss: 4.1617e-04\n",
            "Epoch 99/100\n",
            "20/20 [==============================] - 3s 168ms/step - loss: 3.1649e-04 - val_loss: 2.7845e-04\n",
            "Epoch 100/100\n",
            "20/20 [==============================] - 3s 170ms/step - loss: 2.4866e-04 - val_loss: 2.8470e-04\n"
          ],
          "name": "stdout"
        },
        {
          "output_type": "execute_result",
          "data": {
            "text/plain": [
              "<keras.callbacks.History at 0x7fe487960e50>"
            ]
          },
          "metadata": {},
          "execution_count": 37
        }
      ]
    },
    {
      "cell_type": "markdown",
      "metadata": {
        "id": "N9Xgp_7NI8Cc"
      },
      "source": [
        "**Step 4: Predict the test data and plot the output.**"
      ]
    },
    {
      "cell_type": "code",
      "metadata": {
        "id": "8vPKEvwbAZ-x"
      },
      "source": [
        "# lets do the prediction and check performance metrics\n",
        "\n",
        "train_predict = model.predict(X_train)\n",
        "test_predict = model.predict(X_test)"
      ],
      "execution_count": 39,
      "outputs": []
    },
    {
      "cell_type": "code",
      "metadata": {
        "id": "9yOxJSmjB-Wl"
      },
      "source": [
        "# transform back to original form\n",
        "\n",
        "train_predict = scaler.inverse_transform(train_predict)\n",
        "test_predict = scaler.inverse_transform(test_predict)"
      ],
      "execution_count": 40,
      "outputs": []
    },
    {
      "cell_type": "code",
      "metadata": {
        "colab": {
          "base_uri": "https://localhost:8080/"
        },
        "id": "sz75u0RfCaT5",
        "outputId": "812b97c2-dc15-4904-fb3d-9eaac4f71b20"
      },
      "source": [
        "# calculate the RMSE performance metrics of training data\n",
        "\n",
        "math.sqrt(mean_squared_error(y_train, train_predict))"
      ],
      "execution_count": 41,
      "outputs": [
        {
          "output_type": "execute_result",
          "data": {
            "text/plain": [
              "166.60876100926902"
            ]
          },
          "metadata": {},
          "execution_count": 41
        }
      ]
    },
    {
      "cell_type": "code",
      "metadata": {
        "colab": {
          "base_uri": "https://localhost:8080/"
        },
        "id": "uFyKUD9gC0y2",
        "outputId": "f1288004-d349-4e65-ddff-e155033ed8cd"
      },
      "source": [
        "# calculate the RMSE performance metrics of testing data\n",
        "\n",
        "math.sqrt(mean_squared_error(ytest, test_predict))"
      ],
      "execution_count": 42,
      "outputs": [
        {
          "output_type": "execute_result",
          "data": {
            "text/plain": [
              "116.98569236444627"
            ]
          },
          "metadata": {},
          "execution_count": 42
        }
      ]
    },
    {
      "cell_type": "code",
      "metadata": {
        "colab": {
          "base_uri": "https://localhost:8080/",
          "height": 265
        },
        "id": "HRo6pGC3DDZ9",
        "outputId": "7b0dae70-7b8f-4055-8fd0-f91a434fcfa9"
      },
      "source": [
        "# plotting \n",
        "# shift train predictions for plotting\n",
        "look_back = 100 # timesteps\n",
        "trainPredictPlot = np.empty_like(dataset)\n",
        "trainPredictPlot[:, :] = np.nan\n",
        "trainPredictPlot[look_back:len(train_predict)+look_back, :] = train_predict\n",
        "\n",
        "# shift test predictions for plotting\n",
        "testPredictPlot = np.empty_like(dataset)\n",
        "testPredictPlot[:, :] = np.nan\n",
        "testPredictPlot[len(train_predict)+(look_back*2)+1:len(dataset)-1, :] = test_predict\n",
        "\n",
        "# plot baseline and predictions\n",
        "plt.plot(scaler.inverse_transform(dataset))\n",
        "plt.plot(trainPredictPlot)\n",
        "plt.plot(testPredictPlot)\n",
        "plt.show()"
      ],
      "execution_count": 43,
      "outputs": [
        {
          "output_type": "display_data",
          "data": {
            "image/png": "[encoded data removed]",
            "text/plain": [
              "<Figure size 432x288 with 1 Axes>"
            ]
          },
          "metadata": {
            "needs_background": "light"
          }
        }
      ]
    },
    {
      "cell_type": "markdown",
      "metadata": {
        "id": "ygG2lE-VDiyD"
      },
      "source": [
        "Green Color = Test Data/Predicted Output\n",
        "\n",
        "Blue Color = Complete Dataset\n",
        "\n",
        "Orange Color = Training Data"
      ]
    },
    {
      "cell_type": "code",
      "metadata": {
        "colab": {
          "base_uri": "https://localhost:8080/"
        },
        "id": "b4XOBaEJFUv7",
        "outputId": "bc03f1e1-7cc3-4e91-ad84-4227189e7464"
      },
      "source": [
        "# printing number of test data points\n",
        "\n",
        "len(test_data)"
      ],
      "execution_count": 44,
      "outputs": [
        {
          "output_type": "execute_result",
          "data": {
            "text/plain": [
              "713"
            ]
          },
          "metadata": {},
          "execution_count": 44
        }
      ]
    },
    {
      "cell_type": "code",
      "metadata": {
        "colab": {
          "base_uri": "https://localhost:8080/"
        },
        "id": "IhpZrOzbFXOk",
        "outputId": "66a832f6-47c2-4f5a-af88-d749ba9a4803"
      },
      "source": [
        "x_input = test_data[613:].reshape(1,-1)\n",
        "x_input.shape"
      ],
      "execution_count": 45,
      "outputs": [
        {
          "output_type": "execute_result",
          "data": {
            "text/plain": [
              "(1, 100)"
            ]
          },
          "metadata": {},
          "execution_count": 45
        }
      ]
    },
    {
      "cell_type": "code",
      "metadata": {
        "id": "GAD-Y4muFeGA"
      },
      "source": [
        "# previous 100 days data\n",
        "\n",
        "temp_input = list(x_input)\n",
        "temp_input = temp_input[0].tolist()"
      ],
      "execution_count": 46,
      "outputs": []
    },
    {
      "cell_type": "code",
      "metadata": {
        "colab": {
          "base_uri": "https://localhost:8080/"
        },
        "id": "S_hEFAcYF0qk",
        "outputId": "96fc5892-e73f-4df2-c402-0e484b38bf60"
      },
      "source": [
        "temp_input"
      ],
      "execution_count": 47,
      "outputs": [
        {
          "output_type": "execute_result",
          "data": {
            "text/plain": [
              "[0.14111922141119226,\n",
              " 0.13746958637469586,\n",
              " 0.13990267639902676,\n",
              " 0.13017031630170317,\n",
              " 0.14152473641524738,\n",
              " 0.14111922141119226,\n",
              " 0.13138686131386862,\n",
              " 0.1291565287915653,\n",
              " 0.1309813463098135,\n",
              " 0.126926196269262,\n",
              " 0.15166261151662613,\n",
              " 0.15004055150040552,\n",
              " 0.1419302514193025,\n",
              " 0.16017842660178427,\n",
              " 0.15693430656934304,\n",
              " 0.16504460665044607,\n",
              " 0.17700729927007297,\n",
              " 0.1814679643146796,\n",
              " 0.18815896188158965,\n",
              " 0.2092457420924574,\n",
              " 0.19424168694241684,\n",
              " 0.18106244931062454,\n",
              " 0.18207623682076235,\n",
              " 0.19606650446066498,\n",
              " 0.1768045417680454,\n",
              " 0.18207623682076235,\n",
              " 0.18004866180048662,\n",
              " 0.18207623682076235,\n",
              " 0.1887672343876724,\n",
              " 0.19383617193836178,\n",
              " 0.1909975669099756,\n",
              " 0.19505271695052717,\n",
              " 0.1980940794809407,\n",
              " 0.20640713706407143,\n",
              " 0.19748580697485807,\n",
              " 0.19525547445255476,\n",
              " 0.2043795620437956,\n",
              " 0.19870235198702346,\n",
              " 0.21796431467964317,\n",
              " 0.21553122465531227,\n",
              " 0.20600162206001627,\n",
              " 0.21654501216545008,\n",
              " 0.21654501216545008,\n",
              " 0.217558799675588,\n",
              " 0.19870235198702346,\n",
              " 0.19018653690186538,\n",
              " 0.1780210867802109,\n",
              " 0.17558799675588,\n",
              " 0.16301703163017034,\n",
              " 0.1670721816707218,\n",
              " 0.1711273317112733,\n",
              " 0.17639902676399022,\n",
              " 0.18349553933495533,\n",
              " 0.171735604217356,\n",
              " 0.16423357664233573,\n",
              " 0.16991078669910786,\n",
              " 0.17619626926196275,\n",
              " 0.16788321167883213,\n",
              " 0.16909975669099758,\n",
              " 0.17396593673965932,\n",
              " 0.17741281427412814,\n",
              " 0.1826845093268451,\n",
              " 0.1922141119221411,\n",
              " 0.18896999188969998,\n",
              " 0.19018653690186538,\n",
              " 0.17396593673965932,\n",
              " 0.17092457420924573,\n",
              " 0.16788321167883213,\n",
              " 0.17477696674776966,\n",
              " 0.16443633414436337,\n",
              " 0.1455798864557989,\n",
              " 0.15287915652879158,\n",
              " 0.15369018653690186,\n",
              " 0.15044606650446068,\n",
              " 0.14152473641524738,\n",
              " 0.15145985401459855,\n",
              " 0.1334144363341444,\n",
              " 0.12530413625304138,\n",
              " 0.11719383617193835,\n",
              " 0.1178021086780211,\n",
              " 0.12489862124898626,\n",
              " 0.1413219789132198,\n",
              " 0.1309813463098135,\n",
              " 0.1293592862935929,\n",
              " 0.13240064882400648,\n",
              " 0.12895377128953772,\n",
              " 0.12530413625304138,\n",
              " 0.13381995133819952,\n",
              " 0.1455798864557989,\n",
              " 0.15166261151662613,\n",
              " 0.1508515815085158,\n",
              " 0.14679643146796434,\n",
              " 0.1435523114355231,\n",
              " 0.1273317112733171,\n",
              " 0.14963503649635035,\n",
              " 0.14801297648012973,\n",
              " 0.1581508515815085,\n",
              " 0.16504460665044607,\n",
              " 0.15896188158961883,\n",
              " 0.16626115166261152]"
            ]
          },
          "metadata": {},
          "execution_count": 47
        }
      ]
    },
    {
      "cell_type": "markdown",
      "metadata": {
        "id": "f0bc1PGeOH5q"
      },
      "source": [
        "**Step 5: Predict the future 30 days and plot the output.**"
      ]
    },
    {
      "cell_type": "code",
      "metadata": {
        "colab": {
          "base_uri": "https://localhost:8080/"
        },
        "id": "1Amojr45F7Q8",
        "outputId": "aaa1e944-94a1-4200-e741-88fc05f36eb8"
      },
      "source": [
        "# demonstrate prediction for next 30 days\n",
        "\n",
        "lst_output = []\n",
        "n_steps = 100\n",
        "i=0\n",
        "while(i < 30): # 30 days\n",
        "    \n",
        "    if(len(temp_input)>100):\n",
        "        #print(temp_input)\n",
        "        x_input = np.array(temp_input[1:])\n",
        "        print(\"{} day input {}\".format(i, x_input))\n",
        "        x_input = x_input.reshape(1, -1)\n",
        "        x_input = x_input.reshape((1, n_steps, 1))\n",
        "        #print(x_input)\n",
        "        yhat = model.predict(x_input, verbose = 0)\n",
        "        print(\"{} day output {}\".format(i,yhat))\n",
        "        temp_input.extend(yhat[0].tolist())\n",
        "        temp_input = temp_input[1:]\n",
        "        #print(temp_input)\n",
        "        lst_output.extend(yhat.tolist())\n",
        "        i = i + 1\n",
        "    else:\n",
        "        x_input = x_input.reshape((1, n_steps,1))\n",
        "        yhat = model.predict(x_input, verbose=0)\n",
        "        print(yhat[0])\n",
        "        temp_input.extend(yhat[0].tolist())\n",
        "        print(len(temp_input))\n",
        "        lst_output.extend(yhat.tolist())\n",
        "        i=i+1\n",
        "    \n",
        "\n",
        "print(lst_output)"
      ],
      "execution_count": 48,
      "outputs": [
        {
          "output_type": "stream",
          "text": [
            "[0.16867198]\n",
            "101\n",
            "1 day input [0.13746959 0.13990268 0.13017032 0.14152474 0.14111922 0.13138686\n",
            " 0.12915653 0.13098135 0.1269262  0.15166261 0.15004055 0.14193025\n",
            " 0.16017843 0.15693431 0.16504461 0.1770073  0.18146796 0.18815896\n",
            " 0.20924574 0.19424169 0.18106245 0.18207624 0.1960665  0.17680454\n",
            " 0.18207624 0.18004866 0.18207624 0.18876723 0.19383617 0.19099757\n",
            " 0.19505272 0.19809408 0.20640714 0.19748581 0.19525547 0.20437956\n",
            " 0.19870235 0.21796431 0.21553122 0.20600162 0.21654501 0.21654501\n",
            " 0.2175588  0.19870235 0.19018654 0.17802109 0.175588   0.16301703\n",
            " 0.16707218 0.17112733 0.17639903 0.18349554 0.1717356  0.16423358\n",
            " 0.16991079 0.17619627 0.16788321 0.16909976 0.17396594 0.17741281\n",
            " 0.18268451 0.19221411 0.18896999 0.19018654 0.17396594 0.17092457\n",
            " 0.16788321 0.17477697 0.16443633 0.14557989 0.15287916 0.15369019\n",
            " 0.15044607 0.14152474 0.15145985 0.13341444 0.12530414 0.11719384\n",
            " 0.11780211 0.12489862 0.14132198 0.13098135 0.12935929 0.13240065\n",
            " 0.12895377 0.12530414 0.13381995 0.14557989 0.15166261 0.15085158\n",
            " 0.14679643 0.14355231 0.12733171 0.14963504 0.14801298 0.15815085\n",
            " 0.16504461 0.15896188 0.16626115 0.16867198]\n",
            "1 day output [[0.17112114]]\n",
            "2 day input [0.13990268 0.13017032 0.14152474 0.14111922 0.13138686 0.12915653\n",
            " 0.13098135 0.1269262  0.15166261 0.15004055 0.14193025 0.16017843\n",
            " 0.15693431 0.16504461 0.1770073  0.18146796 0.18815896 0.20924574\n",
            " 0.19424169 0.18106245 0.18207624 0.1960665  0.17680454 0.18207624\n",
            " 0.18004866 0.18207624 0.18876723 0.19383617 0.19099757 0.19505272\n",
            " 0.19809408 0.20640714 0.19748581 0.19525547 0.20437956 0.19870235\n",
            " 0.21796431 0.21553122 0.20600162 0.21654501 0.21654501 0.2175588\n",
            " 0.19870235 0.19018654 0.17802109 0.175588   0.16301703 0.16707218\n",
            " 0.17112733 0.17639903 0.18349554 0.1717356  0.16423358 0.16991079\n",
            " 0.17619627 0.16788321 0.16909976 0.17396594 0.17741281 0.18268451\n",
            " 0.19221411 0.18896999 0.19018654 0.17396594 0.17092457 0.16788321\n",
            " 0.17477697 0.16443633 0.14557989 0.15287916 0.15369019 0.15044607\n",
            " 0.14152474 0.15145985 0.13341444 0.12530414 0.11719384 0.11780211\n",
            " 0.12489862 0.14132198 0.13098135 0.12935929 0.13240065 0.12895377\n",
            " 0.12530414 0.13381995 0.14557989 0.15166261 0.15085158 0.14679643\n",
            " 0.14355231 0.12733171 0.14963504 0.14801298 0.15815085 0.16504461\n",
            " 0.15896188 0.16626115 0.16867198 0.17112114]\n",
            "2 day output [[0.1732876]]\n",
            "3 day input [0.13017032 0.14152474 0.14111922 0.13138686 0.12915653 0.13098135\n",
            " 0.1269262  0.15166261 0.15004055 0.14193025 0.16017843 0.15693431\n",
            " 0.16504461 0.1770073  0.18146796 0.18815896 0.20924574 0.19424169\n",
            " 0.18106245 0.18207624 0.1960665  0.17680454 0.18207624 0.18004866\n",
            " 0.18207624 0.18876723 0.19383617 0.19099757 0.19505272 0.19809408\n",
            " 0.20640714 0.19748581 0.19525547 0.20437956 0.19870235 0.21796431\n",
            " 0.21553122 0.20600162 0.21654501 0.21654501 0.2175588  0.19870235\n",
            " 0.19018654 0.17802109 0.175588   0.16301703 0.16707218 0.17112733\n",
            " 0.17639903 0.18349554 0.1717356  0.16423358 0.16991079 0.17619627\n",
            " 0.16788321 0.16909976 0.17396594 0.17741281 0.18268451 0.19221411\n",
            " 0.18896999 0.19018654 0.17396594 0.17092457 0.16788321 0.17477697\n",
            " 0.16443633 0.14557989 0.15287916 0.15369019 0.15044607 0.14152474\n",
            " 0.15145985 0.13341444 0.12530414 0.11719384 0.11780211 0.12489862\n",
            " 0.14132198 0.13098135 0.12935929 0.13240065 0.12895377 0.12530414\n",
            " 0.13381995 0.14557989 0.15166261 0.15085158 0.14679643 0.14355231\n",
            " 0.12733171 0.14963504 0.14801298 0.15815085 0.16504461 0.15896188\n",
            " 0.16626115 0.16867198 0.17112114 0.1732876 ]\n",
            "3 day output [[0.17526393]]\n",
            "4 day input [0.14152474 0.14111922 0.13138686 0.12915653 0.13098135 0.1269262\n",
            " 0.15166261 0.15004055 0.14193025 0.16017843 0.15693431 0.16504461\n",
            " 0.1770073  0.18146796 0.18815896 0.20924574 0.19424169 0.18106245\n",
            " 0.18207624 0.1960665  0.17680454 0.18207624 0.18004866 0.18207624\n",
            " 0.18876723 0.19383617 0.19099757 0.19505272 0.19809408 0.20640714\n",
            " 0.19748581 0.19525547 0.20437956 0.19870235 0.21796431 0.21553122\n",
            " 0.20600162 0.21654501 0.21654501 0.2175588  0.19870235 0.19018654\n",
            " 0.17802109 0.175588   0.16301703 0.16707218 0.17112733 0.17639903\n",
            " 0.18349554 0.1717356  0.16423358 0.16991079 0.17619627 0.16788321\n",
            " 0.16909976 0.17396594 0.17741281 0.18268451 0.19221411 0.18896999\n",
            " 0.19018654 0.17396594 0.17092457 0.16788321 0.17477697 0.16443633\n",
            " 0.14557989 0.15287916 0.15369019 0.15044607 0.14152474 0.15145985\n",
            " 0.13341444 0.12530414 0.11719384 0.11780211 0.12489862 0.14132198\n",
            " 0.13098135 0.12935929 0.13240065 0.12895377 0.12530414 0.13381995\n",
            " 0.14557989 0.15166261 0.15085158 0.14679643 0.14355231 0.12733171\n",
            " 0.14963504 0.14801298 0.15815085 0.16504461 0.15896188 0.16626115\n",
            " 0.16867198 0.17112114 0.1732876  0.17526393]\n",
            "4 day output [[0.17709763]]\n",
            "5 day input [0.14111922 0.13138686 0.12915653 0.13098135 0.1269262  0.15166261\n",
            " 0.15004055 0.14193025 0.16017843 0.15693431 0.16504461 0.1770073\n",
            " 0.18146796 0.18815896 0.20924574 0.19424169 0.18106245 0.18207624\n",
            " 0.1960665  0.17680454 0.18207624 0.18004866 0.18207624 0.18876723\n",
            " 0.19383617 0.19099757 0.19505272 0.19809408 0.20640714 0.19748581\n",
            " 0.19525547 0.20437956 0.19870235 0.21796431 0.21553122 0.20600162\n",
            " 0.21654501 0.21654501 0.2175588  0.19870235 0.19018654 0.17802109\n",
            " 0.175588   0.16301703 0.16707218 0.17112733 0.17639903 0.18349554\n",
            " 0.1717356  0.16423358 0.16991079 0.17619627 0.16788321 0.16909976\n",
            " 0.17396594 0.17741281 0.18268451 0.19221411 0.18896999 0.19018654\n",
            " 0.17396594 0.17092457 0.16788321 0.17477697 0.16443633 0.14557989\n",
            " 0.15287916 0.15369019 0.15044607 0.14152474 0.15145985 0.13341444\n",
            " 0.12530414 0.11719384 0.11780211 0.12489862 0.14132198 0.13098135\n",
            " 0.12935929 0.13240065 0.12895377 0.12530414 0.13381995 0.14557989\n",
            " 0.15166261 0.15085158 0.14679643 0.14355231 0.12733171 0.14963504\n",
            " 0.14801298 0.15815085 0.16504461 0.15896188 0.16626115 0.16867198\n",
            " 0.17112114 0.1732876  0.17526393 0.17709763]\n",
            "5 day output [[0.17882231]]\n",
            "6 day input [0.13138686 0.12915653 0.13098135 0.1269262  0.15166261 0.15004055\n",
            " 0.14193025 0.16017843 0.15693431 0.16504461 0.1770073  0.18146796\n",
            " 0.18815896 0.20924574 0.19424169 0.18106245 0.18207624 0.1960665\n",
            " 0.17680454 0.18207624 0.18004866 0.18207624 0.18876723 0.19383617\n",
            " 0.19099757 0.19505272 0.19809408 0.20640714 0.19748581 0.19525547\n",
            " 0.20437956 0.19870235 0.21796431 0.21553122 0.20600162 0.21654501\n",
            " 0.21654501 0.2175588  0.19870235 0.19018654 0.17802109 0.175588\n",
            " 0.16301703 0.16707218 0.17112733 0.17639903 0.18349554 0.1717356\n",
            " 0.16423358 0.16991079 0.17619627 0.16788321 0.16909976 0.17396594\n",
            " 0.17741281 0.18268451 0.19221411 0.18896999 0.19018654 0.17396594\n",
            " 0.17092457 0.16788321 0.17477697 0.16443633 0.14557989 0.15287916\n",
            " 0.15369019 0.15044607 0.14152474 0.15145985 0.13341444 0.12530414\n",
            " 0.11719384 0.11780211 0.12489862 0.14132198 0.13098135 0.12935929\n",
            " 0.13240065 0.12895377 0.12530414 0.13381995 0.14557989 0.15166261\n",
            " 0.15085158 0.14679643 0.14355231 0.12733171 0.14963504 0.14801298\n",
            " 0.15815085 0.16504461 0.15896188 0.16626115 0.16867198 0.17112114\n",
            " 0.1732876  0.17526393 0.17709763 0.17882231]\n",
            "6 day output [[0.18046306]]\n",
            "7 day input [0.12915653 0.13098135 0.1269262  0.15166261 0.15004055 0.14193025\n",
            " 0.16017843 0.15693431 0.16504461 0.1770073  0.18146796 0.18815896\n",
            " 0.20924574 0.19424169 0.18106245 0.18207624 0.1960665  0.17680454\n",
            " 0.18207624 0.18004866 0.18207624 0.18876723 0.19383617 0.19099757\n",
            " 0.19505272 0.19809408 0.20640714 0.19748581 0.19525547 0.20437956\n",
            " 0.19870235 0.21796431 0.21553122 0.20600162 0.21654501 0.21654501\n",
            " 0.2175588  0.19870235 0.19018654 0.17802109 0.175588   0.16301703\n",
            " 0.16707218 0.17112733 0.17639903 0.18349554 0.1717356  0.16423358\n",
            " 0.16991079 0.17619627 0.16788321 0.16909976 0.17396594 0.17741281\n",
            " 0.18268451 0.19221411 0.18896999 0.19018654 0.17396594 0.17092457\n",
            " 0.16788321 0.17477697 0.16443633 0.14557989 0.15287916 0.15369019\n",
            " 0.15044607 0.14152474 0.15145985 0.13341444 0.12530414 0.11719384\n",
            " 0.11780211 0.12489862 0.14132198 0.13098135 0.12935929 0.13240065\n",
            " 0.12895377 0.12530414 0.13381995 0.14557989 0.15166261 0.15085158\n",
            " 0.14679643 0.14355231 0.12733171 0.14963504 0.14801298 0.15815085\n",
            " 0.16504461 0.15896188 0.16626115 0.16867198 0.17112114 0.1732876\n",
            " 0.17526393 0.17709763 0.17882231 0.18046306]\n",
            "7 day output [[0.18203676]]\n",
            "8 day input [0.13098135 0.1269262  0.15166261 0.15004055 0.14193025 0.16017843\n",
            " 0.15693431 0.16504461 0.1770073  0.18146796 0.18815896 0.20924574\n",
            " 0.19424169 0.18106245 0.18207624 0.1960665  0.17680454 0.18207624\n",
            " 0.18004866 0.18207624 0.18876723 0.19383617 0.19099757 0.19505272\n",
            " 0.19809408 0.20640714 0.19748581 0.19525547 0.20437956 0.19870235\n",
            " 0.21796431 0.21553122 0.20600162 0.21654501 0.21654501 0.2175588\n",
            " 0.19870235 0.19018654 0.17802109 0.175588   0.16301703 0.16707218\n",
            " 0.17112733 0.17639903 0.18349554 0.1717356  0.16423358 0.16991079\n",
            " 0.17619627 0.16788321 0.16909976 0.17396594 0.17741281 0.18268451\n",
            " 0.19221411 0.18896999 0.19018654 0.17396594 0.17092457 0.16788321\n",
            " 0.17477697 0.16443633 0.14557989 0.15287916 0.15369019 0.15044607\n",
            " 0.14152474 0.15145985 0.13341444 0.12530414 0.11719384 0.11780211\n",
            " 0.12489862 0.14132198 0.13098135 0.12935929 0.13240065 0.12895377\n",
            " 0.12530414 0.13381995 0.14557989 0.15166261 0.15085158 0.14679643\n",
            " 0.14355231 0.12733171 0.14963504 0.14801298 0.15815085 0.16504461\n",
            " 0.15896188 0.16626115 0.16867198 0.17112114 0.1732876  0.17526393\n",
            " 0.17709763 0.17882231 0.18046306 0.18203676]\n",
            "8 day output [[0.1835535]]\n",
            "9 day input [0.1269262  0.15166261 0.15004055 0.14193025 0.16017843 0.15693431\n",
            " 0.16504461 0.1770073  0.18146796 0.18815896 0.20924574 0.19424169\n",
            " 0.18106245 0.18207624 0.1960665  0.17680454 0.18207624 0.18004866\n",
            " 0.18207624 0.18876723 0.19383617 0.19099757 0.19505272 0.19809408\n",
            " 0.20640714 0.19748581 0.19525547 0.20437956 0.19870235 0.21796431\n",
            " 0.21553122 0.20600162 0.21654501 0.21654501 0.2175588  0.19870235\n",
            " 0.19018654 0.17802109 0.175588   0.16301703 0.16707218 0.17112733\n",
            " 0.17639903 0.18349554 0.1717356  0.16423358 0.16991079 0.17619627\n",
            " 0.16788321 0.16909976 0.17396594 0.17741281 0.18268451 0.19221411\n",
            " 0.18896999 0.19018654 0.17396594 0.17092457 0.16788321 0.17477697\n",
            " 0.16443633 0.14557989 0.15287916 0.15369019 0.15044607 0.14152474\n",
            " 0.15145985 0.13341444 0.12530414 0.11719384 0.11780211 0.12489862\n",
            " 0.14132198 0.13098135 0.12935929 0.13240065 0.12895377 0.12530414\n",
            " 0.13381995 0.14557989 0.15166261 0.15085158 0.14679643 0.14355231\n",
            " 0.12733171 0.14963504 0.14801298 0.15815085 0.16504461 0.15896188\n",
            " 0.16626115 0.16867198 0.17112114 0.1732876  0.17526393 0.17709763\n",
            " 0.17882231 0.18046306 0.18203676 0.1835535 ]\n",
            "9 day output [[0.18501827]]\n",
            "10 day input [0.15166261 0.15004055 0.14193025 0.16017843 0.15693431 0.16504461\n",
            " 0.1770073  0.18146796 0.18815896 0.20924574 0.19424169 0.18106245\n",
            " 0.18207624 0.1960665  0.17680454 0.18207624 0.18004866 0.18207624\n",
            " 0.18876723 0.19383617 0.19099757 0.19505272 0.19809408 0.20640714\n",
            " 0.19748581 0.19525547 0.20437956 0.19870235 0.21796431 0.21553122\n",
            " 0.20600162 0.21654501 0.21654501 0.2175588  0.19870235 0.19018654\n",
            " 0.17802109 0.175588   0.16301703 0.16707218 0.17112733 0.17639903\n",
            " 0.18349554 0.1717356  0.16423358 0.16991079 0.17619627 0.16788321\n",
            " 0.16909976 0.17396594 0.17741281 0.18268451 0.19221411 0.18896999\n",
            " 0.19018654 0.17396594 0.17092457 0.16788321 0.17477697 0.16443633\n",
            " 0.14557989 0.15287916 0.15369019 0.15044607 0.14152474 0.15145985\n",
            " 0.13341444 0.12530414 0.11719384 0.11780211 0.12489862 0.14132198\n",
            " 0.13098135 0.12935929 0.13240065 0.12895377 0.12530414 0.13381995\n",
            " 0.14557989 0.15166261 0.15085158 0.14679643 0.14355231 0.12733171\n",
            " 0.14963504 0.14801298 0.15815085 0.16504461 0.15896188 0.16626115\n",
            " 0.16867198 0.17112114 0.1732876  0.17526393 0.17709763 0.17882231\n",
            " 0.18046306 0.18203676 0.1835535  0.18501827]\n",
            "10 day output [[0.1864331]]\n",
            "11 day input [0.15004055 0.14193025 0.16017843 0.15693431 0.16504461 0.1770073\n",
            " 0.18146796 0.18815896 0.20924574 0.19424169 0.18106245 0.18207624\n",
            " 0.1960665  0.17680454 0.18207624 0.18004866 0.18207624 0.18876723\n",
            " 0.19383617 0.19099757 0.19505272 0.19809408 0.20640714 0.19748581\n",
            " 0.19525547 0.20437956 0.19870235 0.21796431 0.21553122 0.20600162\n",
            " 0.21654501 0.21654501 0.2175588  0.19870235 0.19018654 0.17802109\n",
            " 0.175588   0.16301703 0.16707218 0.17112733 0.17639903 0.18349554\n",
            " 0.1717356  0.16423358 0.16991079 0.17619627 0.16788321 0.16909976\n",
            " 0.17396594 0.17741281 0.18268451 0.19221411 0.18896999 0.19018654\n",
            " 0.17396594 0.17092457 0.16788321 0.17477697 0.16443633 0.14557989\n",
            " 0.15287916 0.15369019 0.15044607 0.14152474 0.15145985 0.13341444\n",
            " 0.12530414 0.11719384 0.11780211 0.12489862 0.14132198 0.13098135\n",
            " 0.12935929 0.13240065 0.12895377 0.12530414 0.13381995 0.14557989\n",
            " 0.15166261 0.15085158 0.14679643 0.14355231 0.12733171 0.14963504\n",
            " 0.14801298 0.15815085 0.16504461 0.15896188 0.16626115 0.16867198\n",
            " 0.17112114 0.1732876  0.17526393 0.17709763 0.17882231 0.18046306\n",
            " 0.18203676 0.1835535  0.18501827 0.18643311]\n",
            "11 day output [[0.18779859]]\n",
            "12 day input [0.14193025 0.16017843 0.15693431 0.16504461 0.1770073  0.18146796\n",
            " 0.18815896 0.20924574 0.19424169 0.18106245 0.18207624 0.1960665\n",
            " 0.17680454 0.18207624 0.18004866 0.18207624 0.18876723 0.19383617\n",
            " 0.19099757 0.19505272 0.19809408 0.20640714 0.19748581 0.19525547\n",
            " 0.20437956 0.19870235 0.21796431 0.21553122 0.20600162 0.21654501\n",
            " 0.21654501 0.2175588  0.19870235 0.19018654 0.17802109 0.175588\n",
            " 0.16301703 0.16707218 0.17112733 0.17639903 0.18349554 0.1717356\n",
            " 0.16423358 0.16991079 0.17619627 0.16788321 0.16909976 0.17396594\n",
            " 0.17741281 0.18268451 0.19221411 0.18896999 0.19018654 0.17396594\n",
            " 0.17092457 0.16788321 0.17477697 0.16443633 0.14557989 0.15287916\n",
            " 0.15369019 0.15044607 0.14152474 0.15145985 0.13341444 0.12530414\n",
            " 0.11719384 0.11780211 0.12489862 0.14132198 0.13098135 0.12935929\n",
            " 0.13240065 0.12895377 0.12530414 0.13381995 0.14557989 0.15166261\n",
            " 0.15085158 0.14679643 0.14355231 0.12733171 0.14963504 0.14801298\n",
            " 0.15815085 0.16504461 0.15896188 0.16626115 0.16867198 0.17112114\n",
            " 0.1732876  0.17526393 0.17709763 0.17882231 0.18046306 0.18203676\n",
            " 0.1835535  0.18501827 0.18643311 0.18779859]\n",
            "12 day output [[0.1891152]]\n",
            "13 day input [0.16017843 0.15693431 0.16504461 0.1770073  0.18146796 0.18815896\n",
            " 0.20924574 0.19424169 0.18106245 0.18207624 0.1960665  0.17680454\n",
            " 0.18207624 0.18004866 0.18207624 0.18876723 0.19383617 0.19099757\n",
            " 0.19505272 0.19809408 0.20640714 0.19748581 0.19525547 0.20437956\n",
            " 0.19870235 0.21796431 0.21553122 0.20600162 0.21654501 0.21654501\n",
            " 0.2175588  0.19870235 0.19018654 0.17802109 0.175588   0.16301703\n",
            " 0.16707218 0.17112733 0.17639903 0.18349554 0.1717356  0.16423358\n",
            " 0.16991079 0.17619627 0.16788321 0.16909976 0.17396594 0.17741281\n",
            " 0.18268451 0.19221411 0.18896999 0.19018654 0.17396594 0.17092457\n",
            " 0.16788321 0.17477697 0.16443633 0.14557989 0.15287916 0.15369019\n",
            " 0.15044607 0.14152474 0.15145985 0.13341444 0.12530414 0.11719384\n",
            " 0.11780211 0.12489862 0.14132198 0.13098135 0.12935929 0.13240065\n",
            " 0.12895377 0.12530414 0.13381995 0.14557989 0.15166261 0.15085158\n",
            " 0.14679643 0.14355231 0.12733171 0.14963504 0.14801298 0.15815085\n",
            " 0.16504461 0.15896188 0.16626115 0.16867198 0.17112114 0.1732876\n",
            " 0.17526393 0.17709763 0.17882231 0.18046306 0.18203676 0.1835535\n",
            " 0.18501827 0.18643311 0.18779859 0.1891152 ]\n",
            "13 day output [[0.19038382]]\n",
            "14 day input [0.15693431 0.16504461 0.1770073  0.18146796 0.18815896 0.20924574\n",
            " 0.19424169 0.18106245 0.18207624 0.1960665  0.17680454 0.18207624\n",
            " 0.18004866 0.18207624 0.18876723 0.19383617 0.19099757 0.19505272\n",
            " 0.19809408 0.20640714 0.19748581 0.19525547 0.20437956 0.19870235\n",
            " 0.21796431 0.21553122 0.20600162 0.21654501 0.21654501 0.2175588\n",
            " 0.19870235 0.19018654 0.17802109 0.175588   0.16301703 0.16707218\n",
            " 0.17112733 0.17639903 0.18349554 0.1717356  0.16423358 0.16991079\n",
            " 0.17619627 0.16788321 0.16909976 0.17396594 0.17741281 0.18268451\n",
            " 0.19221411 0.18896999 0.19018654 0.17396594 0.17092457 0.16788321\n",
            " 0.17477697 0.16443633 0.14557989 0.15287916 0.15369019 0.15044607\n",
            " 0.14152474 0.15145985 0.13341444 0.12530414 0.11719384 0.11780211\n",
            " 0.12489862 0.14132198 0.13098135 0.12935929 0.13240065 0.12895377\n",
            " 0.12530414 0.13381995 0.14557989 0.15166261 0.15085158 0.14679643\n",
            " 0.14355231 0.12733171 0.14963504 0.14801298 0.15815085 0.16504461\n",
            " 0.15896188 0.16626115 0.16867198 0.17112114 0.1732876  0.17526393\n",
            " 0.17709763 0.17882231 0.18046306 0.18203676 0.1835535  0.18501827\n",
            " 0.18643311 0.18779859 0.1891152  0.19038382]\n",
            "14 day output [[0.19160646]]\n",
            "15 day input [0.16504461 0.1770073  0.18146796 0.18815896 0.20924574 0.19424169\n",
            " 0.18106245 0.18207624 0.1960665  0.17680454 0.18207624 0.18004866\n",
            " 0.18207624 0.18876723 0.19383617 0.19099757 0.19505272 0.19809408\n",
            " 0.20640714 0.19748581 0.19525547 0.20437956 0.19870235 0.21796431\n",
            " 0.21553122 0.20600162 0.21654501 0.21654501 0.2175588  0.19870235\n",
            " 0.19018654 0.17802109 0.175588   0.16301703 0.16707218 0.17112733\n",
            " 0.17639903 0.18349554 0.1717356  0.16423358 0.16991079 0.17619627\n",
            " 0.16788321 0.16909976 0.17396594 0.17741281 0.18268451 0.19221411\n",
            " 0.18896999 0.19018654 0.17396594 0.17092457 0.16788321 0.17477697\n",
            " 0.16443633 0.14557989 0.15287916 0.15369019 0.15044607 0.14152474\n",
            " 0.15145985 0.13341444 0.12530414 0.11719384 0.11780211 0.12489862\n",
            " 0.14132198 0.13098135 0.12935929 0.13240065 0.12895377 0.12530414\n",
            " 0.13381995 0.14557989 0.15166261 0.15085158 0.14679643 0.14355231\n",
            " 0.12733171 0.14963504 0.14801298 0.15815085 0.16504461 0.15896188\n",
            " 0.16626115 0.16867198 0.17112114 0.1732876  0.17526393 0.17709763\n",
            " 0.17882231 0.18046306 0.18203676 0.1835535  0.18501827 0.18643311\n",
            " 0.18779859 0.1891152  0.19038382 0.19160646]\n",
            "15 day output [[0.19278574]]\n",
            "16 day input [0.1770073  0.18146796 0.18815896 0.20924574 0.19424169 0.18106245\n",
            " 0.18207624 0.1960665  0.17680454 0.18207624 0.18004866 0.18207624\n",
            " 0.18876723 0.19383617 0.19099757 0.19505272 0.19809408 0.20640714\n",
            " 0.19748581 0.19525547 0.20437956 0.19870235 0.21796431 0.21553122\n",
            " 0.20600162 0.21654501 0.21654501 0.2175588  0.19870235 0.19018654\n",
            " 0.17802109 0.175588   0.16301703 0.16707218 0.17112733 0.17639903\n",
            " 0.18349554 0.1717356  0.16423358 0.16991079 0.17619627 0.16788321\n",
            " 0.16909976 0.17396594 0.17741281 0.18268451 0.19221411 0.18896999\n",
            " 0.19018654 0.17396594 0.17092457 0.16788321 0.17477697 0.16443633\n",
            " 0.14557989 0.15287916 0.15369019 0.15044607 0.14152474 0.15145985\n",
            " 0.13341444 0.12530414 0.11719384 0.11780211 0.12489862 0.14132198\n",
            " 0.13098135 0.12935929 0.13240065 0.12895377 0.12530414 0.13381995\n",
            " 0.14557989 0.15166261 0.15085158 0.14679643 0.14355231 0.12733171\n",
            " 0.14963504 0.14801298 0.15815085 0.16504461 0.15896188 0.16626115\n",
            " 0.16867198 0.17112114 0.1732876  0.17526393 0.17709763 0.17882231\n",
            " 0.18046306 0.18203676 0.1835535  0.18501827 0.18643311 0.18779859\n",
            " 0.1891152  0.19038382 0.19160646 0.19278574]\n",
            "16 day output [[0.19392523]]\n",
            "17 day input [0.18146796 0.18815896 0.20924574 0.19424169 0.18106245 0.18207624\n",
            " 0.1960665  0.17680454 0.18207624 0.18004866 0.18207624 0.18876723\n",
            " 0.19383617 0.19099757 0.19505272 0.19809408 0.20640714 0.19748581\n",
            " 0.19525547 0.20437956 0.19870235 0.21796431 0.21553122 0.20600162\n",
            " 0.21654501 0.21654501 0.2175588  0.19870235 0.19018654 0.17802109\n",
            " 0.175588   0.16301703 0.16707218 0.17112733 0.17639903 0.18349554\n",
            " 0.1717356  0.16423358 0.16991079 0.17619627 0.16788321 0.16909976\n",
            " 0.17396594 0.17741281 0.18268451 0.19221411 0.18896999 0.19018654\n",
            " 0.17396594 0.17092457 0.16788321 0.17477697 0.16443633 0.14557989\n",
            " 0.15287916 0.15369019 0.15044607 0.14152474 0.15145985 0.13341444\n",
            " 0.12530414 0.11719384 0.11780211 0.12489862 0.14132198 0.13098135\n",
            " 0.12935929 0.13240065 0.12895377 0.12530414 0.13381995 0.14557989\n",
            " 0.15166261 0.15085158 0.14679643 0.14355231 0.12733171 0.14963504\n",
            " 0.14801298 0.15815085 0.16504461 0.15896188 0.16626115 0.16867198\n",
            " 0.17112114 0.1732876  0.17526393 0.17709763 0.17882231 0.18046306\n",
            " 0.18203676 0.1835535  0.18501827 0.18643311 0.18779859 0.1891152\n",
            " 0.19038382 0.19160646 0.19278574 0.19392523]\n",
            "17 day output [[0.1950288]]\n",
            "18 day input [0.18815896 0.20924574 0.19424169 0.18106245 0.18207624 0.1960665\n",
            " 0.17680454 0.18207624 0.18004866 0.18207624 0.18876723 0.19383617\n",
            " 0.19099757 0.19505272 0.19809408 0.20640714 0.19748581 0.19525547\n",
            " 0.20437956 0.19870235 0.21796431 0.21553122 0.20600162 0.21654501\n",
            " 0.21654501 0.2175588  0.19870235 0.19018654 0.17802109 0.175588\n",
            " 0.16301703 0.16707218 0.17112733 0.17639903 0.18349554 0.1717356\n",
            " 0.16423358 0.16991079 0.17619627 0.16788321 0.16909976 0.17396594\n",
            " 0.17741281 0.18268451 0.19221411 0.18896999 0.19018654 0.17396594\n",
            " 0.17092457 0.16788321 0.17477697 0.16443633 0.14557989 0.15287916\n",
            " 0.15369019 0.15044607 0.14152474 0.15145985 0.13341444 0.12530414\n",
            " 0.11719384 0.11780211 0.12489862 0.14132198 0.13098135 0.12935929\n",
            " 0.13240065 0.12895377 0.12530414 0.13381995 0.14557989 0.15166261\n",
            " 0.15085158 0.14679643 0.14355231 0.12733171 0.14963504 0.14801298\n",
            " 0.15815085 0.16504461 0.15896188 0.16626115 0.16867198 0.17112114\n",
            " 0.1732876  0.17526393 0.17709763 0.17882231 0.18046306 0.18203676\n",
            " 0.1835535  0.18501827 0.18643311 0.18779859 0.1891152  0.19038382\n",
            " 0.19160646 0.19278574 0.19392523 0.1950288 ]\n",
            "18 day output [[0.19610067]]\n",
            "19 day input [0.20924574 0.19424169 0.18106245 0.18207624 0.1960665  0.17680454\n",
            " 0.18207624 0.18004866 0.18207624 0.18876723 0.19383617 0.19099757\n",
            " 0.19505272 0.19809408 0.20640714 0.19748581 0.19525547 0.20437956\n",
            " 0.19870235 0.21796431 0.21553122 0.20600162 0.21654501 0.21654501\n",
            " 0.2175588  0.19870235 0.19018654 0.17802109 0.175588   0.16301703\n",
            " 0.16707218 0.17112733 0.17639903 0.18349554 0.1717356  0.16423358\n",
            " 0.16991079 0.17619627 0.16788321 0.16909976 0.17396594 0.17741281\n",
            " 0.18268451 0.19221411 0.18896999 0.19018654 0.17396594 0.17092457\n",
            " 0.16788321 0.17477697 0.16443633 0.14557989 0.15287916 0.15369019\n",
            " 0.15044607 0.14152474 0.15145985 0.13341444 0.12530414 0.11719384\n",
            " 0.11780211 0.12489862 0.14132198 0.13098135 0.12935929 0.13240065\n",
            " 0.12895377 0.12530414 0.13381995 0.14557989 0.15166261 0.15085158\n",
            " 0.14679643 0.14355231 0.12733171 0.14963504 0.14801298 0.15815085\n",
            " 0.16504461 0.15896188 0.16626115 0.16867198 0.17112114 0.1732876\n",
            " 0.17526393 0.17709763 0.17882231 0.18046306 0.18203676 0.1835535\n",
            " 0.18501827 0.18643311 0.18779859 0.1891152  0.19038382 0.19160646\n",
            " 0.19278574 0.19392523 0.1950288  0.19610067]\n",
            "19 day output [[0.19714485]]\n",
            "20 day input [0.19424169 0.18106245 0.18207624 0.1960665  0.17680454 0.18207624\n",
            " 0.18004866 0.18207624 0.18876723 0.19383617 0.19099757 0.19505272\n",
            " 0.19809408 0.20640714 0.19748581 0.19525547 0.20437956 0.19870235\n",
            " 0.21796431 0.21553122 0.20600162 0.21654501 0.21654501 0.2175588\n",
            " 0.19870235 0.19018654 0.17802109 0.175588   0.16301703 0.16707218\n",
            " 0.17112733 0.17639903 0.18349554 0.1717356  0.16423358 0.16991079\n",
            " 0.17619627 0.16788321 0.16909976 0.17396594 0.17741281 0.18268451\n",
            " 0.19221411 0.18896999 0.19018654 0.17396594 0.17092457 0.16788321\n",
            " 0.17477697 0.16443633 0.14557989 0.15287916 0.15369019 0.15044607\n",
            " 0.14152474 0.15145985 0.13341444 0.12530414 0.11719384 0.11780211\n",
            " 0.12489862 0.14132198 0.13098135 0.12935929 0.13240065 0.12895377\n",
            " 0.12530414 0.13381995 0.14557989 0.15166261 0.15085158 0.14679643\n",
            " 0.14355231 0.12733171 0.14963504 0.14801298 0.15815085 0.16504461\n",
            " 0.15896188 0.16626115 0.16867198 0.17112114 0.1732876  0.17526393\n",
            " 0.17709763 0.17882231 0.18046306 0.18203676 0.1835535  0.18501827\n",
            " 0.18643311 0.18779859 0.1891152  0.19038382 0.19160646 0.19278574\n",
            " 0.19392523 0.1950288  0.19610067 0.19714485]\n",
            "20 day output [[0.19816518]]\n",
            "21 day input [0.18106245 0.18207624 0.1960665  0.17680454 0.18207624 0.18004866\n",
            " 0.18207624 0.18876723 0.19383617 0.19099757 0.19505272 0.19809408\n",
            " 0.20640714 0.19748581 0.19525547 0.20437956 0.19870235 0.21796431\n",
            " 0.21553122 0.20600162 0.21654501 0.21654501 0.2175588  0.19870235\n",
            " 0.19018654 0.17802109 0.175588   0.16301703 0.16707218 0.17112733\n",
            " 0.17639903 0.18349554 0.1717356  0.16423358 0.16991079 0.17619627\n",
            " 0.16788321 0.16909976 0.17396594 0.17741281 0.18268451 0.19221411\n",
            " 0.18896999 0.19018654 0.17396594 0.17092457 0.16788321 0.17477697\n",
            " 0.16443633 0.14557989 0.15287916 0.15369019 0.15044607 0.14152474\n",
            " 0.15145985 0.13341444 0.12530414 0.11719384 0.11780211 0.12489862\n",
            " 0.14132198 0.13098135 0.12935929 0.13240065 0.12895377 0.12530414\n",
            " 0.13381995 0.14557989 0.15166261 0.15085158 0.14679643 0.14355231\n",
            " 0.12733171 0.14963504 0.14801298 0.15815085 0.16504461 0.15896188\n",
            " 0.16626115 0.16867198 0.17112114 0.1732876  0.17526393 0.17709763\n",
            " 0.17882231 0.18046306 0.18203676 0.1835535  0.18501827 0.18643311\n",
            " 0.18779859 0.1891152  0.19038382 0.19160646 0.19278574 0.19392523\n",
            " 0.1950288  0.19610067 0.19714485 0.19816518]\n",
            "21 day output [[0.19916493]]\n",
            "22 day input [0.18207624 0.1960665  0.17680454 0.18207624 0.18004866 0.18207624\n",
            " 0.18876723 0.19383617 0.19099757 0.19505272 0.19809408 0.20640714\n",
            " 0.19748581 0.19525547 0.20437956 0.19870235 0.21796431 0.21553122\n",
            " 0.20600162 0.21654501 0.21654501 0.2175588  0.19870235 0.19018654\n",
            " 0.17802109 0.175588   0.16301703 0.16707218 0.17112733 0.17639903\n",
            " 0.18349554 0.1717356  0.16423358 0.16991079 0.17619627 0.16788321\n",
            " 0.16909976 0.17396594 0.17741281 0.18268451 0.19221411 0.18896999\n",
            " 0.19018654 0.17396594 0.17092457 0.16788321 0.17477697 0.16443633\n",
            " 0.14557989 0.15287916 0.15369019 0.15044607 0.14152474 0.15145985\n",
            " 0.13341444 0.12530414 0.11719384 0.11780211 0.12489862 0.14132198\n",
            " 0.13098135 0.12935929 0.13240065 0.12895377 0.12530414 0.13381995\n",
            " 0.14557989 0.15166261 0.15085158 0.14679643 0.14355231 0.12733171\n",
            " 0.14963504 0.14801298 0.15815085 0.16504461 0.15896188 0.16626115\n",
            " 0.16867198 0.17112114 0.1732876  0.17526393 0.17709763 0.17882231\n",
            " 0.18046306 0.18203676 0.1835535  0.18501827 0.18643311 0.18779859\n",
            " 0.1891152  0.19038382 0.19160646 0.19278574 0.19392523 0.1950288\n",
            " 0.19610067 0.19714485 0.19816518 0.19916493]\n",
            "22 day output [[0.20014697]]\n",
            "23 day input [0.1960665  0.17680454 0.18207624 0.18004866 0.18207624 0.18876723\n",
            " 0.19383617 0.19099757 0.19505272 0.19809408 0.20640714 0.19748581\n",
            " 0.19525547 0.20437956 0.19870235 0.21796431 0.21553122 0.20600162\n",
            " 0.21654501 0.21654501 0.2175588  0.19870235 0.19018654 0.17802109\n",
            " 0.175588   0.16301703 0.16707218 0.17112733 0.17639903 0.18349554\n",
            " 0.1717356  0.16423358 0.16991079 0.17619627 0.16788321 0.16909976\n",
            " 0.17396594 0.17741281 0.18268451 0.19221411 0.18896999 0.19018654\n",
            " 0.17396594 0.17092457 0.16788321 0.17477697 0.16443633 0.14557989\n",
            " 0.15287916 0.15369019 0.15044607 0.14152474 0.15145985 0.13341444\n",
            " 0.12530414 0.11719384 0.11780211 0.12489862 0.14132198 0.13098135\n",
            " 0.12935929 0.13240065 0.12895377 0.12530414 0.13381995 0.14557989\n",
            " 0.15166261 0.15085158 0.14679643 0.14355231 0.12733171 0.14963504\n",
            " 0.14801298 0.15815085 0.16504461 0.15896188 0.16626115 0.16867198\n",
            " 0.17112114 0.1732876  0.17526393 0.17709763 0.17882231 0.18046306\n",
            " 0.18203676 0.1835535  0.18501827 0.18643311 0.18779859 0.1891152\n",
            " 0.19038382 0.19160646 0.19278574 0.19392523 0.1950288  0.19610067\n",
            " 0.19714485 0.19816518 0.19916493 0.20014697]\n",
            "23 day output [[0.20111364]]\n",
            "24 day input [0.17680454 0.18207624 0.18004866 0.18207624 0.18876723 0.19383617\n",
            " 0.19099757 0.19505272 0.19809408 0.20640714 0.19748581 0.19525547\n",
            " 0.20437956 0.19870235 0.21796431 0.21553122 0.20600162 0.21654501\n",
            " 0.21654501 0.2175588  0.19870235 0.19018654 0.17802109 0.175588\n",
            " 0.16301703 0.16707218 0.17112733 0.17639903 0.18349554 0.1717356\n",
            " 0.16423358 0.16991079 0.17619627 0.16788321 0.16909976 0.17396594\n",
            " 0.17741281 0.18268451 0.19221411 0.18896999 0.19018654 0.17396594\n",
            " 0.17092457 0.16788321 0.17477697 0.16443633 0.14557989 0.15287916\n",
            " 0.15369019 0.15044607 0.14152474 0.15145985 0.13341444 0.12530414\n",
            " 0.11719384 0.11780211 0.12489862 0.14132198 0.13098135 0.12935929\n",
            " 0.13240065 0.12895377 0.12530414 0.13381995 0.14557989 0.15166261\n",
            " 0.15085158 0.14679643 0.14355231 0.12733171 0.14963504 0.14801298\n",
            " 0.15815085 0.16504461 0.15896188 0.16626115 0.16867198 0.17112114\n",
            " 0.1732876  0.17526393 0.17709763 0.17882231 0.18046306 0.18203676\n",
            " 0.1835535  0.18501827 0.18643311 0.18779859 0.1891152  0.19038382\n",
            " 0.19160646 0.19278574 0.19392523 0.1950288  0.19610067 0.19714485\n",
            " 0.19816518 0.19916493 0.20014697 0.20111364]\n",
            "24 day output [[0.20206672]]\n",
            "25 day input [0.18207624 0.18004866 0.18207624 0.18876723 0.19383617 0.19099757\n",
            " 0.19505272 0.19809408 0.20640714 0.19748581 0.19525547 0.20437956\n",
            " 0.19870235 0.21796431 0.21553122 0.20600162 0.21654501 0.21654501\n",
            " 0.2175588  0.19870235 0.19018654 0.17802109 0.175588   0.16301703\n",
            " 0.16707218 0.17112733 0.17639903 0.18349554 0.1717356  0.16423358\n",
            " 0.16991079 0.17619627 0.16788321 0.16909976 0.17396594 0.17741281\n",
            " 0.18268451 0.19221411 0.18896999 0.19018654 0.17396594 0.17092457\n",
            " 0.16788321 0.17477697 0.16443633 0.14557989 0.15287916 0.15369019\n",
            " 0.15044607 0.14152474 0.15145985 0.13341444 0.12530414 0.11719384\n",
            " 0.11780211 0.12489862 0.14132198 0.13098135 0.12935929 0.13240065\n",
            " 0.12895377 0.12530414 0.13381995 0.14557989 0.15166261 0.15085158\n",
            " 0.14679643 0.14355231 0.12733171 0.14963504 0.14801298 0.15815085\n",
            " 0.16504461 0.15896188 0.16626115 0.16867198 0.17112114 0.1732876\n",
            " 0.17526393 0.17709763 0.17882231 0.18046306 0.18203676 0.1835535\n",
            " 0.18501827 0.18643311 0.18779859 0.1891152  0.19038382 0.19160646\n",
            " 0.19278574 0.19392523 0.1950288  0.19610067 0.19714485 0.19816518\n",
            " 0.19916493 0.20014697 0.20111364 0.20206672]\n",
            "25 day output [[0.2030075]]\n",
            "26 day input [0.18004866 0.18207624 0.18876723 0.19383617 0.19099757 0.19505272\n",
            " 0.19809408 0.20640714 0.19748581 0.19525547 0.20437956 0.19870235\n",
            " 0.21796431 0.21553122 0.20600162 0.21654501 0.21654501 0.2175588\n",
            " 0.19870235 0.19018654 0.17802109 0.175588   0.16301703 0.16707218\n",
            " 0.17112733 0.17639903 0.18349554 0.1717356  0.16423358 0.16991079\n",
            " 0.17619627 0.16788321 0.16909976 0.17396594 0.17741281 0.18268451\n",
            " 0.19221411 0.18896999 0.19018654 0.17396594 0.17092457 0.16788321\n",
            " 0.17477697 0.16443633 0.14557989 0.15287916 0.15369019 0.15044607\n",
            " 0.14152474 0.15145985 0.13341444 0.12530414 0.11719384 0.11780211\n",
            " 0.12489862 0.14132198 0.13098135 0.12935929 0.13240065 0.12895377\n",
            " 0.12530414 0.13381995 0.14557989 0.15166261 0.15085158 0.14679643\n",
            " 0.14355231 0.12733171 0.14963504 0.14801298 0.15815085 0.16504461\n",
            " 0.15896188 0.16626115 0.16867198 0.17112114 0.1732876  0.17526393\n",
            " 0.17709763 0.17882231 0.18046306 0.18203676 0.1835535  0.18501827\n",
            " 0.18643311 0.18779859 0.1891152  0.19038382 0.19160646 0.19278574\n",
            " 0.19392523 0.1950288  0.19610067 0.19714485 0.19816518 0.19916493\n",
            " 0.20014697 0.20111364 0.20206672 0.2030075 ]\n",
            "26 day output [[0.20393701]]\n",
            "27 day input [0.18207624 0.18876723 0.19383617 0.19099757 0.19505272 0.19809408\n",
            " 0.20640714 0.19748581 0.19525547 0.20437956 0.19870235 0.21796431\n",
            " 0.21553122 0.20600162 0.21654501 0.21654501 0.2175588  0.19870235\n",
            " 0.19018654 0.17802109 0.175588   0.16301703 0.16707218 0.17112733\n",
            " 0.17639903 0.18349554 0.1717356  0.16423358 0.16991079 0.17619627\n",
            " 0.16788321 0.16909976 0.17396594 0.17741281 0.18268451 0.19221411\n",
            " 0.18896999 0.19018654 0.17396594 0.17092457 0.16788321 0.17477697\n",
            " 0.16443633 0.14557989 0.15287916 0.15369019 0.15044607 0.14152474\n",
            " 0.15145985 0.13341444 0.12530414 0.11719384 0.11780211 0.12489862\n",
            " 0.14132198 0.13098135 0.12935929 0.13240065 0.12895377 0.12530414\n",
            " 0.13381995 0.14557989 0.15166261 0.15085158 0.14679643 0.14355231\n",
            " 0.12733171 0.14963504 0.14801298 0.15815085 0.16504461 0.15896188\n",
            " 0.16626115 0.16867198 0.17112114 0.1732876  0.17526393 0.17709763\n",
            " 0.17882231 0.18046306 0.18203676 0.1835535  0.18501827 0.18643311\n",
            " 0.18779859 0.1891152  0.19038382 0.19160646 0.19278574 0.19392523\n",
            " 0.1950288  0.19610067 0.19714485 0.19816518 0.19916493 0.20014697\n",
            " 0.20111364 0.20206672 0.2030075  0.20393701]\n",
            "27 day output [[0.20485581]]\n",
            "28 day input [0.18876723 0.19383617 0.19099757 0.19505272 0.19809408 0.20640714\n",
            " 0.19748581 0.19525547 0.20437956 0.19870235 0.21796431 0.21553122\n",
            " 0.20600162 0.21654501 0.21654501 0.2175588  0.19870235 0.19018654\n",
            " 0.17802109 0.175588   0.16301703 0.16707218 0.17112733 0.17639903\n",
            " 0.18349554 0.1717356  0.16423358 0.16991079 0.17619627 0.16788321\n",
            " 0.16909976 0.17396594 0.17741281 0.18268451 0.19221411 0.18896999\n",
            " 0.19018654 0.17396594 0.17092457 0.16788321 0.17477697 0.16443633\n",
            " 0.14557989 0.15287916 0.15369019 0.15044607 0.14152474 0.15145985\n",
            " 0.13341444 0.12530414 0.11719384 0.11780211 0.12489862 0.14132198\n",
            " 0.13098135 0.12935929 0.13240065 0.12895377 0.12530414 0.13381995\n",
            " 0.14557989 0.15166261 0.15085158 0.14679643 0.14355231 0.12733171\n",
            " 0.14963504 0.14801298 0.15815085 0.16504461 0.15896188 0.16626115\n",
            " 0.16867198 0.17112114 0.1732876  0.17526393 0.17709763 0.17882231\n",
            " 0.18046306 0.18203676 0.1835535  0.18501827 0.18643311 0.18779859\n",
            " 0.1891152  0.19038382 0.19160646 0.19278574 0.19392523 0.1950288\n",
            " 0.19610067 0.19714485 0.19816518 0.19916493 0.20014697 0.20111364\n",
            " 0.20206672 0.2030075  0.20393701 0.20485581]\n",
            "28 day output [[0.20576426]]\n",
            "29 day input [0.19383617 0.19099757 0.19505272 0.19809408 0.20640714 0.19748581\n",
            " 0.19525547 0.20437956 0.19870235 0.21796431 0.21553122 0.20600162\n",
            " 0.21654501 0.21654501 0.2175588  0.19870235 0.19018654 0.17802109\n",
            " 0.175588   0.16301703 0.16707218 0.17112733 0.17639903 0.18349554\n",
            " 0.1717356  0.16423358 0.16991079 0.17619627 0.16788321 0.16909976\n",
            " 0.17396594 0.17741281 0.18268451 0.19221411 0.18896999 0.19018654\n",
            " 0.17396594 0.17092457 0.16788321 0.17477697 0.16443633 0.14557989\n",
            " 0.15287916 0.15369019 0.15044607 0.14152474 0.15145985 0.13341444\n",
            " 0.12530414 0.11719384 0.11780211 0.12489862 0.14132198 0.13098135\n",
            " 0.12935929 0.13240065 0.12895377 0.12530414 0.13381995 0.14557989\n",
            " 0.15166261 0.15085158 0.14679643 0.14355231 0.12733171 0.14963504\n",
            " 0.14801298 0.15815085 0.16504461 0.15896188 0.16626115 0.16867198\n",
            " 0.17112114 0.1732876  0.17526393 0.17709763 0.17882231 0.18046306\n",
            " 0.18203676 0.1835535  0.18501827 0.18643311 0.18779859 0.1891152\n",
            " 0.19038382 0.19160646 0.19278574 0.19392523 0.1950288  0.19610067\n",
            " 0.19714485 0.19816518 0.19916493 0.20014697 0.20111364 0.20206672\n",
            " 0.2030075  0.20393701 0.20485581 0.20576426]\n",
            "29 day output [[0.20666255]]\n",
            "[[0.16867198050022125], [0.17112113535404205], [0.17328760027885437], [0.1752639263868332], [0.1770976334810257], [0.17882230877876282], [0.1804630607366562], [0.18203675746917725], [0.18355350196361542], [0.18501827120780945], [0.1864331066608429], [0.18779858946800232], [0.18911519646644592], [0.19038382172584534], [0.19160646200180054], [0.19278573989868164], [0.19392523169517517], [0.19502879679203033], [0.19610066711902618], [0.19714485108852386], [0.1981651782989502], [0.19916492700576782], [0.20014697313308716], [0.20111364126205444], [0.20206671953201294], [0.2030075043439865], [0.20393700897693634], [0.204855814576149], [0.2057642638683319], [0.20666255056858063]]\n"
          ],
          "name": "stdout"
        }
      ]
    },
    {
      "cell_type": "code",
      "metadata": {
        "id": "sHoSJx5hGuBu"
      },
      "source": [
        "day_new = np.arange(1, 101)\n",
        "day_pred = np.arange(101, 131)"
      ],
      "execution_count": 49,
      "outputs": []
    },
    {
      "cell_type": "code",
      "metadata": {
        "colab": {
          "base_uri": "https://localhost:8080/"
        },
        "id": "tImXL8-1axkx",
        "outputId": "98276914-3dea-4c49-a47b-3ebec8450505"
      },
      "source": [
        "len(dataset)"
      ],
      "execution_count": 51,
      "outputs": [
        {
          "output_type": "execute_result",
          "data": {
            "text/plain": [
              "2035"
            ]
          },
          "metadata": {},
          "execution_count": 51
        }
      ]
    },
    {
      "cell_type": "code",
      "metadata": {
        "colab": {
          "base_uri": "https://localhost:8080/",
          "height": 282
        },
        "id": "j9fKbBq0HMfb",
        "outputId": "5dd3692c-cf64-4496-85af-5bb2a3d0c4d8"
      },
      "source": [
        "# this orange line is 30 days prediction\n",
        "\n",
        "plt.plot(day_new, scaler.inverse_transform(dataset[1935:]))\n",
        "plt.plot(day_pred, scaler.inverse_transform(lst_output))"
      ],
      "execution_count": 52,
      "outputs": [
        {
          "output_type": "execute_result",
          "data": {
            "text/plain": [
              "[<matplotlib.lines.Line2D at 0x7fe487429150>]"
            ]
          },
          "metadata": {},
          "execution_count": 52
        },
        {
          "output_type": "display_data",
          "data": {
            "image/png": "[encoded data removed]",
            "text/plain": [
              "<Figure size 432x288 with 1 Axes>"
            ]
          },
          "metadata": {
            "needs_background": "light"
          }
        }
      ]
    },
    {
      "cell_type": "code",
      "metadata": {
        "colab": {
          "base_uri": "https://localhost:8080/",
          "height": 282
        },
        "id": "4wn5HRFJH0Sf",
        "outputId": "f4490ca1-a6f7-4f43-f5c2-6d593826aa7f"
      },
      "source": [
        "dataset = dataset.tolist()\n",
        "dataset.extend(lst_output)\n",
        "plt.plot(dataset[1200:])"
      ],
      "execution_count": 53,
      "outputs": [
        {
          "output_type": "execute_result",
          "data": {
            "text/plain": [
              "[<matplotlib.lines.Line2D at 0x7fe4875be710>]"
            ]
          },
          "metadata": {},
          "execution_count": 53
        },
        {
          "output_type": "display_data",
          "data": {
            "image/png": "[encoded data removed]",
            "text/plain": [
              "<Figure size 432x288 with 1 Axes>"
            ]
          },
          "metadata": {
            "needs_background": "light"
          }
        }
      ]
    },
    {
      "cell_type": "code",
      "metadata": {
        "id": "XKwNc9PDH6rr"
      },
      "source": [
        "dataset = scaler.inverse_transform(dataset).tolist()"
      ],
      "execution_count": 54,
      "outputs": []
    },
    {
      "cell_type": "code",
      "metadata": {
        "colab": {
          "base_uri": "https://localhost:8080/",
          "height": 282
        },
        "id": "3eYOgvY9IBj5",
        "outputId": "f1d468dc-ab09-4036-dd64-9f7615afd1cd"
      },
      "source": [
        "plt.plot(dataset)"
      ],
      "execution_count": 55,
      "outputs": [
        {
          "output_type": "execute_result",
          "data": {
            "text/plain": [
              "[<matplotlib.lines.Line2D at 0x7fe48726c250>]"
            ]
          },
          "metadata": {},
          "execution_count": 55
        },
        {
          "output_type": "display_data",
          "data": {
            "image/png": "[encoded data removed]",
            "text/plain": [
              "<Figure size 432x288 with 1 Axes>"
            ]
          },
          "metadata": {
            "needs_background": "light"
          }
        }
      ]
    }
  ]
}